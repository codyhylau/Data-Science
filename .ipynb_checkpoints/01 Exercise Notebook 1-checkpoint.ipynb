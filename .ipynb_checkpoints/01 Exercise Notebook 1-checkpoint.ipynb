{
  "cells": [
    {
      "metadata": {},
      "cell_type": "markdown",
      "source": "# Exercise 1\n\nWe first load a dataset and examine its dimensions."
    },
    {
      "metadata": {
        "trusted": true
      },
      "cell_type": "code",
      "source": "import math\nimport numpy as np\n\nxy_data = np.load('Ex1_polyreg_data.npy')\nnp.shape(xy_data)",
      "execution_count": 3,
      "outputs": [
        {
          "output_type": "execute_result",
          "execution_count": 3,
          "data": {
            "text/plain": "(70, 2)"
          },
          "metadata": {}
        }
      ]
    },
    {
      "metadata": {},
      "cell_type": "markdown",
      "source": "The matrix `xy_data` contains $70$ rows, each a data point of the form $(x_i,y_i)$ for $i=1, \\ldots, 70$."
    },
    {
      "metadata": {},
      "cell_type": "markdown",
      "source": "### 1a) Plot the data in a scatterplot."
    },
    {
      "metadata": {
        "trusted": false
      },
      "cell_type": "code",
      "source": "import matplotlib.pyplot as plt\n# Your code for scatterplot here\n\n",
      "execution_count": 6,
      "outputs": []
    },
    {
      "metadata": {},
      "cell_type": "markdown",
      "source": "### 1b) Write a function `polyreg` to fit a polynomial of a given order to a dataset. \nThe inputs to the function are a data matrix of dimension $N \\times 2$,  and $k \\geq 0$, the order of the polynomial.   The function should compute the coefficients of the polynomial $\\beta_0 + \\beta_1 x +  \\ldots  +\\beta_k x^{k}$ via least squares regression, and should return the coefficient vector, the fit, and the vector of residuals. \n\nIf specified the degree $k$ is greater than or equal to $N$, then the function must fit an order $(N-1)$ polynomial and set the remaining coefficients to zero.\n\n**NOTE**: You are *not* allowed to use the built-in function `np.polyfit`."
    },
    {
      "metadata": {
        "trusted": false
      },
      "cell_type": "code",
      "source": "def polyreg(data_matrix, k)\n    # Your code here\n    # The function should return the the coefficient vector beta, the fit, and the vector of residuals\n    ",
      "execution_count": 10,
      "outputs": []
    },
    {
      "metadata": {},
      "cell_type": "markdown",
      "source": "Use the tests below to check the outputs of the function you have written:"
    },
    {
      "metadata": {
        "trusted": true
      },
      "cell_type": "code",
      "source": "# Some tests to make sure your  function is working correctly\n\nxcol = np.arange(-1, 1.05, 0.1)\nycol = 2 - 7*xcol + 3*(xcol**2)  # We are generating data accoridng to y = 2 - 7x + 3x^2\ntest_matrix = np.transpose(np.vstack((xcol,ycol)))\ntest_matrix.shape\n\nbeta_test = polyreg(test_matrix, k=2)[0] \nassert((np.round(beta_test[0], 3) == 2) and (np.round(beta_test[1], 3) == -7) and (np.round(beta_test[2], 3) == 3))  \n# We want to check that using the function with k=2 recovers the coefficients exactly\n\n# Now check the zeroth order fit, i.e., the function gives the correct output with k=0\nbeta_test = polyreg(test_matrix, k=0)[0]\nres_test = polyreg(test_matrix, k=0)[2] #the last output of the function gives the vector of residuals\n\nassert(np.round(beta_test, 3) == 3.1)\nassert(np.round(np.linalg.norm(res_test), 3) == 19.937)",
      "execution_count": null,
      "outputs": []
    },
    {
      "metadata": {},
      "cell_type": "markdown",
      "source": "### 1c) Use `polyreg` to fit polynomial models for the data in `xy_data` for $k=2,3,4$:\n\n- Plot the fits for the three cases on the same plot together with the scatterplot of the data. The plots should be labelled and a legend included. \n- Compute and print the SSE and $R^2$ coefficient for each of the three cases.\n- Which of the three models you would choose? Briefly justify your choice."
    },
    {
      "metadata": {
        "trusted": false
      },
      "cell_type": "code",
      "source": "#Your code here\n\n",
      "execution_count": null,
      "outputs": []
    },
    {
      "metadata": {},
      "cell_type": "markdown",
      "source": " #### State which model you choose and briefly justify your choice.\n \n \n < fill in your answer in this cell.>\n \n "
    },
    {
      "metadata": {},
      "cell_type": "markdown",
      "source": "### 1d)  For the model you have chosen in the previous part (either $k=2/3/4)$:\n\n- Plot the residuals in a scatter plot. \n- Plot a histogram of the residuals along with a Gaussian pdf with zero mean and the same standard deviation as the residuals."
    },
    {
      "metadata": {
        "trusted": false
      },
      "cell_type": "code",
      "source": "#Your code here\n\n",
      "execution_count": 2,
      "outputs": []
    }
  ],
  "metadata": {
    "kernelspec": {
      "name": "python3",
      "display_name": "Python 3",
      "language": "python"
    },
    "language_info": {
      "mimetype": "text/x-python",
      "nbconvert_exporter": "python",
      "name": "python",
      "file_extension": ".py",
      "version": "3.5.4",
      "pygments_lexer": "ipython3",
      "codemirror_mode": {
        "version": 3,
        "name": "ipython"
      }
    }
  },
  "nbformat": 4,
  "nbformat_minor": 2
}